{
 "cells": [
  {
   "cell_type": "markdown",
   "id": "b132d0c3",
   "metadata": {},
   "source": [
    "# Simple Linear Regression"
   ]
  },
  {
   "cell_type": "markdown",
   "id": "976bb532",
   "metadata": {},
   "source": [
    "### Importing Packages"
   ]
  },
  {
   "cell_type": "code",
   "execution_count": 301,
   "id": "37b2dd01",
   "metadata": {},
   "outputs": [],
   "source": [
    "import pandas as pd\n",
    "import numpy as np\n",
    "import seaborn as sns\n",
    "import matplotlib.pyplot as plt\n",
    "from sklearn.model_selection import train_test_split\n",
    "from sklearn.linear_model import LinearRegression"
   ]
  },
  {
   "cell_type": "code",
   "execution_count": 302,
   "id": "1b9a2f77",
   "metadata": {},
   "outputs": [],
   "source": [
    "import warnings\n",
    "pd.set_option('display.max_columns', None)\n",
    "warnings.filterwarnings('ignore')"
   ]
  },
  {
   "cell_type": "markdown",
   "id": "57876664",
   "metadata": {},
   "source": [
    "### Importing Dataset"
   ]
  },
  {
   "cell_type": "code",
   "execution_count": 303,
   "id": "1f9f4280",
   "metadata": {},
   "outputs": [],
   "source": [
    "# Set the number of data points\n",
    "num_points = 1000\n",
    "\n",
    "# Generate the x-values for the data points\n",
    "x = np.random.normal(0, 1, num_points)\n",
    "y = np.random.normal(0, 1, num_points)"
   ]
  },
  {
   "cell_type": "code",
   "execution_count": 304,
   "id": "a1d6bf3c",
   "metadata": {},
   "outputs": [
    {
     "data": {
      "text/html": [
       "<div>\n",
       "<style scoped>\n",
       "    .dataframe tbody tr th:only-of-type {\n",
       "        vertical-align: middle;\n",
       "    }\n",
       "\n",
       "    .dataframe tbody tr th {\n",
       "        vertical-align: top;\n",
       "    }\n",
       "\n",
       "    .dataframe thead th {\n",
       "        text-align: right;\n",
       "    }\n",
       "</style>\n",
       "<table border=\"1\" class=\"dataframe\">\n",
       "  <thead>\n",
       "    <tr style=\"text-align: right;\">\n",
       "      <th></th>\n",
       "      <th>x</th>\n",
       "      <th>y</th>\n",
       "    </tr>\n",
       "  </thead>\n",
       "  <tbody>\n",
       "    <tr>\n",
       "      <th>0</th>\n",
       "      <td>0.085185</td>\n",
       "      <td>0.037661</td>\n",
       "    </tr>\n",
       "    <tr>\n",
       "      <th>1</th>\n",
       "      <td>-1.160865</td>\n",
       "      <td>-0.325312</td>\n",
       "    </tr>\n",
       "    <tr>\n",
       "      <th>2</th>\n",
       "      <td>-0.595795</td>\n",
       "      <td>1.238148</td>\n",
       "    </tr>\n",
       "    <tr>\n",
       "      <th>3</th>\n",
       "      <td>1.001380</td>\n",
       "      <td>-1.281325</td>\n",
       "    </tr>\n",
       "    <tr>\n",
       "      <th>4</th>\n",
       "      <td>1.194701</td>\n",
       "      <td>-0.109482</td>\n",
       "    </tr>\n",
       "    <tr>\n",
       "      <th>...</th>\n",
       "      <td>...</td>\n",
       "      <td>...</td>\n",
       "    </tr>\n",
       "    <tr>\n",
       "      <th>995</th>\n",
       "      <td>-0.226458</td>\n",
       "      <td>0.008276</td>\n",
       "    </tr>\n",
       "    <tr>\n",
       "      <th>996</th>\n",
       "      <td>-0.487822</td>\n",
       "      <td>0.052241</td>\n",
       "    </tr>\n",
       "    <tr>\n",
       "      <th>997</th>\n",
       "      <td>0.226334</td>\n",
       "      <td>1.275755</td>\n",
       "    </tr>\n",
       "    <tr>\n",
       "      <th>998</th>\n",
       "      <td>-1.231352</td>\n",
       "      <td>-0.769438</td>\n",
       "    </tr>\n",
       "    <tr>\n",
       "      <th>999</th>\n",
       "      <td>0.370731</td>\n",
       "      <td>0.796572</td>\n",
       "    </tr>\n",
       "  </tbody>\n",
       "</table>\n",
       "<p>1000 rows × 2 columns</p>\n",
       "</div>"
      ],
      "text/plain": [
       "            x         y\n",
       "0    0.085185  0.037661\n",
       "1   -1.160865 -0.325312\n",
       "2   -0.595795  1.238148\n",
       "3    1.001380 -1.281325\n",
       "4    1.194701 -0.109482\n",
       "..        ...       ...\n",
       "995 -0.226458  0.008276\n",
       "996 -0.487822  0.052241\n",
       "997  0.226334  1.275755\n",
       "998 -1.231352 -0.769438\n",
       "999  0.370731  0.796572\n",
       "\n",
       "[1000 rows x 2 columns]"
      ]
     },
     "execution_count": 304,
     "metadata": {},
     "output_type": "execute_result"
    }
   ],
   "source": [
    "# Combine the x and y values into a single dataset\n",
    "df = pd.DataFrame({'x':x,'y':y})\n",
    "df"
   ]
  },
  {
   "cell_type": "markdown",
   "id": "150c775b",
   "metadata": {},
   "source": [
    "#### Data Anaysis"
   ]
  },
  {
   "cell_type": "code",
   "execution_count": 305,
   "id": "f54bef0a",
   "metadata": {
    "scrolled": true
   },
   "outputs": [
    {
     "name": "stdout",
     "output_type": "stream",
     "text": [
      "Number of records : 1000\n",
      "Number of column : 2\n"
     ]
    }
   ],
   "source": [
    "print(f\"Number of records : {df.shape[0]}\")\n",
    "print(f\"Number of column : {df.shape[1]}\")"
   ]
  },
  {
   "cell_type": "code",
   "execution_count": 306,
   "id": "4a9709b2",
   "metadata": {},
   "outputs": [
    {
     "name": "stdout",
     "output_type": "stream",
     "text": [
      "Maximum X value is : 3.11711786130092\n",
      "Minimum X value is : -3.838118839676877\n",
      "\n",
      "Maximum Y value is : 2.8419164298924575\n",
      "Minimum Y value is : -3.0884510498968862\n"
     ]
    }
   ],
   "source": [
    "print(f'Maximum X value is : {df.x.max()}')\n",
    "print(f'Minimum X value is : {df.x.min()}\\n')\n",
    "print(f'Maximum Y value is : {df.y.max()}')\n",
    "print(f'Minimum Y value is : {df.y.min()}')"
   ]
  },
  {
   "cell_type": "code",
   "execution_count": 307,
   "id": "13e0017a",
   "metadata": {},
   "outputs": [
    {
     "name": "stdout",
     "output_type": "stream",
     "text": [
      "<class 'pandas.core.frame.DataFrame'>\n",
      "RangeIndex: 1000 entries, 0 to 999\n",
      "Data columns (total 2 columns):\n",
      " #   Column  Non-Null Count  Dtype  \n",
      "---  ------  --------------  -----  \n",
      " 0   x       1000 non-null   float64\n",
      " 1   y       1000 non-null   float64\n",
      "dtypes: float64(2)\n",
      "memory usage: 15.8 KB\n"
     ]
    }
   ],
   "source": [
    "df.info()"
   ]
  },
  {
   "cell_type": "code",
   "execution_count": 308,
   "id": "f12564f5",
   "metadata": {},
   "outputs": [
    {
     "data": {
      "text/html": [
       "<div>\n",
       "<style scoped>\n",
       "    .dataframe tbody tr th:only-of-type {\n",
       "        vertical-align: middle;\n",
       "    }\n",
       "\n",
       "    .dataframe tbody tr th {\n",
       "        vertical-align: top;\n",
       "    }\n",
       "\n",
       "    .dataframe thead th {\n",
       "        text-align: right;\n",
       "    }\n",
       "</style>\n",
       "<table border=\"1\" class=\"dataframe\">\n",
       "  <thead>\n",
       "    <tr style=\"text-align: right;\">\n",
       "      <th></th>\n",
       "      <th>x</th>\n",
       "      <th>y</th>\n",
       "    </tr>\n",
       "  </thead>\n",
       "  <tbody>\n",
       "    <tr>\n",
       "      <th>count</th>\n",
       "      <td>1000.000000</td>\n",
       "      <td>1000.000000</td>\n",
       "    </tr>\n",
       "    <tr>\n",
       "      <th>mean</th>\n",
       "      <td>-0.018568</td>\n",
       "      <td>0.025281</td>\n",
       "    </tr>\n",
       "    <tr>\n",
       "      <th>std</th>\n",
       "      <td>0.949427</td>\n",
       "      <td>0.992204</td>\n",
       "    </tr>\n",
       "    <tr>\n",
       "      <th>min</th>\n",
       "      <td>-3.838119</td>\n",
       "      <td>-3.088451</td>\n",
       "    </tr>\n",
       "    <tr>\n",
       "      <th>25%</th>\n",
       "      <td>-0.679233</td>\n",
       "      <td>-0.667614</td>\n",
       "    </tr>\n",
       "    <tr>\n",
       "      <th>50%</th>\n",
       "      <td>-0.014554</td>\n",
       "      <td>0.038509</td>\n",
       "    </tr>\n",
       "    <tr>\n",
       "      <th>75%</th>\n",
       "      <td>0.608074</td>\n",
       "      <td>0.655636</td>\n",
       "    </tr>\n",
       "    <tr>\n",
       "      <th>max</th>\n",
       "      <td>3.117118</td>\n",
       "      <td>2.841916</td>\n",
       "    </tr>\n",
       "  </tbody>\n",
       "</table>\n",
       "</div>"
      ],
      "text/plain": [
       "                 x            y\n",
       "count  1000.000000  1000.000000\n",
       "mean     -0.018568     0.025281\n",
       "std       0.949427     0.992204\n",
       "min      -3.838119    -3.088451\n",
       "25%      -0.679233    -0.667614\n",
       "50%      -0.014554     0.038509\n",
       "75%       0.608074     0.655636\n",
       "max       3.117118     2.841916"
      ]
     },
     "execution_count": 308,
     "metadata": {},
     "output_type": "execute_result"
    }
   ],
   "source": [
    "df.describe()"
   ]
  },
  {
   "cell_type": "code",
   "execution_count": 309,
   "id": "0f110dcf",
   "metadata": {
    "scrolled": false
   },
   "outputs": [
    {
     "data": {
      "text/plain": [
       "<AxesSubplot:>"
      ]
     },
     "execution_count": 309,
     "metadata": {},
     "output_type": "execute_result"
    },
    {
     "data": {
      "image/png": "[encoded data removed]",
      "text/plain": [
       "<Figure size 640x480 with 2 Axes>"
      ]
     },
     "metadata": {},
     "output_type": "display_data"
    }
   ],
   "source": [
    "sns.heatmap(df.corr(),annot=True,cmap='cool')"
   ]
  },
  {
   "cell_type": "code",
   "execution_count": 310,
   "id": "04e5a109",
   "metadata": {
    "scrolled": true
   },
   "outputs": [
    {
     "data": {
      "text/plain": [
       "Text(0.5, 1.0, 'Distribution of y Axis')"
      ]
     },
     "execution_count": 310,
     "metadata": {},
     "output_type": "execute_result"
    },
    {
     "data": {
      "image/png": "[encoded data removed]",
      "text/plain": [
       "<Figure size 2000x500 with 2 Axes>"
      ]
     },
     "metadata": {},
     "output_type": "display_data"
    }
   ],
   "source": [
    "fig,(ax1,ax2) = plt.subplots(1,2,figsize=(20,5))\n",
    "sns.distplot(df['x'],color='r',ax=ax1)\n",
    "ax1.set_title('Distribution of X Axis')\n",
    "sns.distplot(df['y'],color='b',ax=ax2)\n",
    "ax1.set_title('Distribution of y Axis')"
   ]
  },
  {
   "cell_type": "markdown",
   "id": "0340b7e8",
   "metadata": {},
   "source": [
    "### Train Test Split"
   ]
  },
  {
   "cell_type": "code",
   "execution_count": 311,
   "id": "c4b3e2ab",
   "metadata": {},
   "outputs": [],
   "source": [
    "shuffle = df.sample(frac=1)\n",
    "train_size = int(0.7* len(df))\n",
    "train = shuffle[:train_size]\n",
    "test = shuffle[train_size:]"
   ]
  },
  {
   "cell_type": "code",
   "execution_count": 312,
   "id": "52993770",
   "metadata": {},
   "outputs": [
    {
     "name": "stdout",
     "output_type": "stream",
     "text": [
      "Shape of training data: (700, 2)\n",
      "Shape of test data : (300, 2)\n"
     ]
    }
   ],
   "source": [
    "print(f\"Shape of training data: {train.shape}\")\n",
    "print(f\"Shape of test data : {test.shape}\")"
   ]
  },
  {
   "cell_type": "code",
   "execution_count": 313,
   "id": "4109047c",
   "metadata": {},
   "outputs": [],
   "source": [
    "x_train = train['x']\n",
    "y_train = train['y']\n",
    "x_test  = train['x']\n",
    "y_test  = train['y']"
   ]
  },
  {
   "cell_type": "markdown",
   "id": "ecb9cfa3",
   "metadata": {},
   "source": [
    "# Simple Linear Regression\n",
    "### y = m * x + c\n",
    "#### m = slope\n",
    "#### c = intercept"
   ]
  },
  {
   "cell_type": "markdown",
   "id": "53eb63cf",
   "metadata": {},
   "source": [
    "### Simple Linear Model"
   ]
  },
  {
   "cell_type": "code",
   "execution_count": 314,
   "id": "6922db66",
   "metadata": {},
   "outputs": [],
   "source": [
    "def SimpleRegressionModel(x_train,y_train):\n",
    "    N = len(x_train)\n",
    "    numerator = 0\n",
    "    denominator = 0\n",
    "    \n",
    "    x_mean = x_train.mean()\n",
    "    y_mean = y_train.mean()\n",
    "    \n",
    "    s_yixi   = (y_train * x_train).sum()\n",
    "    yixi_Byn = (y_train.sum() * x_train.sum())/N\n",
    "    \n",
    "    s_xixi = (x_train * x_train).sum()\n",
    "    xixi_Byn = (x_train.sum() * x_train.sum())/N\n",
    "    \n",
    "    slope = (s_yixi - yixi_Byn)/(s_xixi - xixi_Byn)\n",
    "    \n",
    "    intercept = y_mean - (slope * x_mean)\n",
    "    \n",
    "    return (slope,intercept)"
   ]
  },
  {
   "cell_type": "code",
   "execution_count": 315,
   "id": "a4793d31",
   "metadata": {
    "scrolled": true
   },
   "outputs": [
    {
     "name": "stdout",
     "output_type": "stream",
     "text": [
      "m = -0.0202950216735463 \n",
      "c = 0.01983285128888848\n",
      "Equation of Best Fit :\n",
      " y = -0.0202950216735463 * x + 0.01983285128888848\n"
     ]
    }
   ],
   "source": [
    "m,c = SimpleRegressionModel(x_train,y_train)\n",
    "print (f'm = {m} \\nc = {c}')\n",
    "print(f\"Equation of Best Fit :\\n y = {m} * x + {c}\")"
   ]
  },
  {
   "cell_type": "code",
   "execution_count": 316,
   "id": "24768371",
   "metadata": {
    "scrolled": false
   },
   "outputs": [
    {
     "data": {
      "text/plain": [
       "Text(0, 0.5, 'Y')"
      ]
     },
     "execution_count": 316,
     "metadata": {},
     "output_type": "execute_result"
    },
    {
     "data": {
      "image/png": "[encoded data removed]",
      "text/plain": [
       "<Figure size 640x480 with 1 Axes>"
      ]
     },
     "metadata": {},
     "output_type": "display_data"
    }
   ],
   "source": [
    "plt.scatter(x_train,y_train,color=\"red\")\n",
    "plt.plot(x_train,m*x_train+c)\n",
    "plt.xlabel('X')\n",
    "plt.ylabel('Y')"
   ]
  },
  {
   "cell_type": "code",
   "execution_count": 317,
   "id": "a6b5d4a0",
   "metadata": {},
   "outputs": [],
   "source": [
    "def prediction(x_train,slope,intercept):\n",
    "    predict = x_train * slope + intercept\n",
    "    return predict"
   ]
  },
  {
   "cell_type": "code",
   "execution_count": 318,
   "id": "e0a7092e",
   "metadata": {},
   "outputs": [],
   "source": [
    "y_pred = prediction(x_test,m,c)"
   ]
  },
  {
   "cell_type": "code",
   "execution_count": 319,
   "id": "6e2f0484",
   "metadata": {
    "scrolled": true
   },
   "outputs": [
    {
     "name": "stdout",
     "output_type": "stream",
     "text": [
      "1.0092282150947312\n"
     ]
    }
   ],
   "source": [
    "from sklearn.metrics import mean_squared_error\n",
    "slr = mean_squared_error(y_pred,y_test)\n",
    "print(slr)"
   ]
  },
  {
   "cell_type": "markdown",
   "id": "62142836",
   "metadata": {},
   "source": [
    "## Gradient Descent"
   ]
  },
  {
   "cell_type": "code",
   "execution_count": 320,
   "id": "71ca1a28",
   "metadata": {},
   "outputs": [],
   "source": [
    "class GradientDescent:\n",
    "    def __init__(self,lr=0.001,epochs=500):\n",
    "        self.lr,self.epochs=lr,epochs\n",
    "    def fit(self,x,y):\n",
    "        m=5\n",
    "        c=0\n",
    "        n=x.shape[0]\n",
    "        for i in range(self.epochs):\n",
    "            y_pred=m*x+c\n",
    "            m_gradient=(-2/n)*(np.sum(x*(y-y_pred)))\n",
    "            c_gradient=(-2/n)*(np.sum(y-y_pred))\n",
    "            m=m-(self.lr*m_gradient)\n",
    "            c=c+(self.lr*c_gradient)\n",
    "        self.m,self.c=m,c\n",
    "    def predict(self,x):\n",
    "        y=self.m*x+self.c\n",
    "        return y"
   ]
  },
  {
   "cell_type": "code",
   "execution_count": 321,
   "id": "bae70f10",
   "metadata": {},
   "outputs": [],
   "source": [
    "lr =GradientDescent()\n",
    "lr.fit(x,y)\n",
    "y_pred=lr.predict(x)"
   ]
  },
  {
   "cell_type": "code",
   "execution_count": 322,
   "id": "73cc5e42",
   "metadata": {},
   "outputs": [
    {
     "data": {
      "text/plain": [
       "[<matplotlib.lines.Line2D at 0x24f4c7eecd0>]"
      ]
     },
     "execution_count": 322,
     "metadata": {},
     "output_type": "execute_result"
    },
    {
     "data": {
      "image/png": "[encoded data removed]",
      "text/plain": [
       "<Figure size 640x480 with 1 Axes>"
      ]
     },
     "metadata": {},
     "output_type": "display_data"
    }
   ],
   "source": [
    "plt.scatter(x,y,c='black')\n",
    "plt.plot(x,y_pred)"
   ]
  },
  {
   "cell_type": "markdown",
   "id": "81ffdd51",
   "metadata": {},
   "source": [
    "### Mean Absolute Error and Mean Absolute Percentage Error"
   ]
  },
  {
   "cell_type": "code",
   "execution_count": 323,
   "id": "9e58adbd",
   "metadata": {
    "scrolled": true
   },
   "outputs": [
    {
     "name": "stdout",
     "output_type": "stream",
     "text": [
      "4.751136481544856\n"
     ]
    }
   ],
   "source": [
    "from sklearn.metrics import mean_squared_error\n",
    "gb = mean_squared_error(y_pred,y)\n",
    "print(gb)"
   ]
  },
  {
   "cell_type": "markdown",
   "id": "75642d03",
   "metadata": {},
   "source": [
    "## SK Learn Model"
   ]
  },
  {
   "cell_type": "code",
   "execution_count": 324,
   "id": "de238878",
   "metadata": {},
   "outputs": [],
   "source": [
    "x_train,x_test,y_train,y_test = train_test_split(x,y,test_size=0.2,random_state=42)"
   ]
  },
  {
   "cell_type": "code",
   "execution_count": 325,
   "id": "775e138a",
   "metadata": {},
   "outputs": [],
   "source": [
    "reg = LinearRegression()"
   ]
  },
  {
   "cell_type": "code",
   "execution_count": 326,
   "id": "a163d6df",
   "metadata": {},
   "outputs": [
    {
     "data": {
      "text/plain": [
       "LinearRegression()"
      ]
     },
     "execution_count": 326,
     "metadata": {},
     "output_type": "execute_result"
    }
   ],
   "source": [
    "reg.fit(x_train.reshape(-1, 1), y_train)"
   ]
  },
  {
   "cell_type": "code",
   "execution_count": 327,
   "id": "7b851715",
   "metadata": {},
   "outputs": [],
   "source": [
    "y_pred = reg.predict(x_test.reshape(-1, 1))"
   ]
  },
  {
   "cell_type": "code",
   "execution_count": 328,
   "id": "125b8ee9",
   "metadata": {},
   "outputs": [
    {
     "name": "stdout",
     "output_type": "stream",
     "text": [
      "Slope:  [-0.01067921]\n",
      "Intercept:  0.01884639897025092\n"
     ]
    }
   ],
   "source": [
    "print(\"Slope: \", reg.coef_)\n",
    "print(\"Intercept: \", reg.intercept_)"
   ]
  },
  {
   "cell_type": "code",
   "execution_count": 329,
   "id": "092845f6",
   "metadata": {},
   "outputs": [
    {
     "name": "stdout",
     "output_type": "stream",
     "text": [
      "Equation of Best Fit :\n",
      " y = -0.0202950216735463 * x + 0.01983285128888848\n"
     ]
    }
   ],
   "source": [
    "print(f\"Equation of Best Fit :\\n y = {m} * x + {c}\")"
   ]
  },
  {
   "cell_type": "code",
   "execution_count": 330,
   "id": "42b2f84d",
   "metadata": {
    "scrolled": false
   },
   "outputs": [
    {
     "name": "stdout",
     "output_type": "stream",
     "text": [
      "1.0520202710326076\n"
     ]
    }
   ],
   "source": [
    "from sklearn.metrics import mean_squared_error\n",
    "sk = mean_squared_error(y_pred,y_test)\n",
    "print(sk)"
   ]
  },
  {
   "cell_type": "markdown",
   "id": "a76653c2",
   "metadata": {},
   "source": [
    "### Model Evaluation "
   ]
  },
  {
   "cell_type": "code",
   "execution_count": 331,
   "id": "b309db55",
   "metadata": {},
   "outputs": [
    {
     "data": {
      "text/html": [
       "<div>\n",
       "<style scoped>\n",
       "    .dataframe tbody tr th:only-of-type {\n",
       "        vertical-align: middle;\n",
       "    }\n",
       "\n",
       "    .dataframe tbody tr th {\n",
       "        vertical-align: top;\n",
       "    }\n",
       "\n",
       "    .dataframe thead th {\n",
       "        text-align: right;\n",
       "    }\n",
       "</style>\n",
       "<table border=\"1\" class=\"dataframe\">\n",
       "  <thead>\n",
       "    <tr style=\"text-align: right;\">\n",
       "      <th></th>\n",
       "      <th>Simple Linear regression model</th>\n",
       "      <th>Gradient Descent Model</th>\n",
       "      <th>sk-learn model</th>\n",
       "    </tr>\n",
       "  </thead>\n",
       "  <tbody>\n",
       "    <tr>\n",
       "      <th>mean_squared_error</th>\n",
       "      <td>1.009228</td>\n",
       "      <td>4.751136</td>\n",
       "      <td>1.05202</td>\n",
       "    </tr>\n",
       "  </tbody>\n",
       "</table>\n",
       "</div>"
      ],
      "text/plain": [
       "                    Simple Linear regression model  Gradient Descent Model  \\\n",
       "mean_squared_error                        1.009228                4.751136   \n",
       "\n",
       "                    sk-learn model  \n",
       "mean_squared_error         1.05202  "
      ]
     },
     "execution_count": 331,
     "metadata": {},
     "output_type": "execute_result"
    }
   ],
   "source": [
    "m_per_dict = {'Simple Linear regression model':slr,\"Gradient Descent Model\":gb,\"sk-learn model\":sk}\n",
    "model_performance = pd.DataFrame(m_per_dict,index=['mean_squared_error'])\n",
    "model_performance"
   ]
  },
  {
   "cell_type": "markdown",
   "id": "c8b7eabf",
   "metadata": {},
   "source": [
    "#### From this output we can say that our model is works the best for sk-learn model and the least worst for gradient decent model"
   ]
  }
 ],
 "metadata": {
  "kernelspec": {
   "display_name": "Python 3 (ipykernel)",
   "language": "python",
   "name": "python3"
  },
  "language_info": {
   "codemirror_mode": {
    "name": "ipython",
    "version": 3
   },
   "file_extension": ".py",
   "mimetype": "text/x-python",
   "name": "python",
   "nbconvert_exporter": "python",
   "pygments_lexer": "ipython3",
   "version": "3.9.13"
  }
 },
 "nbformat": 4,
 "nbformat_minor": 5
}
